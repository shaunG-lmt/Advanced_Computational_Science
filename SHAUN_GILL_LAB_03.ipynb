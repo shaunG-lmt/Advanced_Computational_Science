{
 "cells": [
  {
   "cell_type": "code",
   "execution_count": 2,
   "metadata": {},
   "outputs": [
    {
     "data": {
      "image/png": "[encoded data removed]",
      "text/plain": [
       "<Figure size 432x288 with 1 Axes>"
      ]
     },
     "metadata": {},
     "output_type": "display_data"
    }
   ],
   "source": [
    "import numpy as np\n",
    "x = np.array([-3, 2, -1, 4, 0])\n",
    "y = np.array([20, 20, -10, 30, 0])\n",
    "fitCubic = np.polyfit(x, y, 3) # Polynomial\n",
    "xp = np.linspace(-4, 6, 100)\n",
    "polyValues = np.polyval(fitCubic, xp)\n",
    "\n",
    "\n",
    "import matplotlib.pyplot as plt\n",
    "plt.plot(x, y, '.')\n",
    "plt.plot(xp, polyValues, 'g--')\n",
    "plt.show()"
   ]
  },
  {
   "cell_type": "code",
   "execution_count": 4,
   "metadata": {},
   "outputs": [
    {
     "data": {
      "text/plain": [
       "[<matplotlib.lines.Line2D at 0x7fe3c27d0be0>]"
      ]
     },
     "execution_count": 4,
     "metadata": {},
     "output_type": "execute_result"
    },
    {
     "data": {
      "image/png": "[encoded data removed]",
      "text/plain": [
       "<Figure size 432x288 with 1 Axes>"
      ]
     },
     "metadata": {},
     "output_type": "display_data"
    }
   ],
   "source": [
    "import pandas as pd\n",
    "data = pd.read_csv(\"DanWood.csv\")\n",
    "x = data[\"x\"].values\n",
    "y = data[\"y\"].values\n",
    "\n",
    "plt.plot(x, y, 'o')"
   ]
  },
  {
   "cell_type": "code",
   "execution_count": 120,
   "metadata": {},
   "outputs": [],
   "source": [
    "import math\n",
    "\n",
    "def sin(x, nTerm):\n",
    "    plus = False\n",
    "    y = 3\n",
    "    value = x\n",
    "    for i in range(nTerm):\n",
    "        top = x**y\n",
    "        bot = math.factorial(y)\n",
    "        calc = top/bot\n",
    "        y = y + 2\n",
    "        if plus == False:\n",
    "            value = value - calc\n",
    "            plus = True\n",
    "        else:\n",
    "            value = value + calc\n",
    "            plus = False\n",
    "    return value\n",
    "\n",
    "def getAbsErr(correct, computed):\n",
    "    return (abs(correct-computed))\n",
    "\n",
    "def getRelErr(correct, computed):\n",
    "    return (abs(getAbsErr(correct,computed)/correct))\n",
    "def truncDec(x, n):\n",
    "    x = str(x)\n",
    "    new = \"\"\n",
    "    #split at index trim after n index til length\n",
    "    t = x.split('.', 1)\n",
    "    d = list(t[1])\n",
    "    for i in range(n):\n",
    "        new = new + d[i]\n",
    "        \n",
    "    w = \"\"\n",
    "    w = w + x[0]\n",
    "    w = w + \".\"\n",
    "    w = w + new\n",
    "    return w"
   ]
  },
  {
   "cell_type": "code",
   "execution_count": 123,
   "metadata": {},
   "outputs": [
    {
     "name": "stdout",
     "output_type": "stream",
     "text": [
      "Computed:  0.93\n",
      "Correct:  0.91\n",
      "Absolute Error:  0.020000000000000018\n",
      "Relative Error:  0.021978021978021997 %\n"
     ]
    }
   ],
   "source": [
    "computed = round(sin(2, 2), 2)\n",
    "correct = round(math.sin(2), 2)\n",
    "print(\"Computed: \", computed)\n",
    "print(\"Correct: \", correct)\n",
    "print(\"Absolute Error: \", getAbsErr(correct, computed))\n",
    "print(\"Relative Error: \", getRelErr(correct, computed), \"%\")"
   ]
  },
  {
   "cell_type": "code",
   "execution_count": 124,
   "metadata": {},
   "outputs": [
    {
     "name": "stdout",
     "output_type": "stream",
     "text": [
      "Absolute Error:  0.030000000000000027\n",
      "Relative Error:  0.03333333333333336 %\n"
     ]
    }
   ],
   "source": [
    "computed = float(truncDec(sin(2,2), 2))\n",
    "correct = float(truncDec(math.sin(2), 2))\n",
    "print(\"Absolute Error: \", getAbsErr(correct, computed))\n",
    "print(\"Relative Error: \", getRelErr(correct, computed), \"%\")"
   ]
  },
  {
   "cell_type": "code",
   "execution_count": null,
   "metadata": {},
   "outputs": [],
   "source": []
  }
 ],
 "metadata": {
  "kernelspec": {
   "display_name": "Python 3",
   "language": "python",
   "name": "python3"
  },
  "language_info": {
   "codemirror_mode": {
    "name": "ipython",
    "version": 3
   },
   "file_extension": ".py",
   "mimetype": "text/x-python",
   "name": "python",
   "nbconvert_exporter": "python",
   "pygments_lexer": "ipython3",
   "version": "3.6.8"
  }
 },
 "nbformat": 4,
 "nbformat_minor": 4
}

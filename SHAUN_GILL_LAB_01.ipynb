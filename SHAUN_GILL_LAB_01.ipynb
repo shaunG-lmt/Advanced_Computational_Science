{
 "cells": [
  {
   "cell_type": "code",
   "execution_count": 1,
   "metadata": {},
   "outputs": [
    {
     "name": "stdout",
     "output_type": "stream",
     "text": [
      "-0.7568024953079282\n"
     ]
    }
   ],
   "source": [
    "import math\n",
    "print(math.sin(4))"
   ]
  },
  {
   "cell_type": "code",
   "execution_count": 2,
   "metadata": {},
   "outputs": [
    {
     "name": "stdout",
     "output_type": "stream",
     "text": [
      "0.625\n",
      "0.625\n",
      "0.625\n",
      "40\n",
      "0.25\n"
     ]
    }
   ],
   "source": [
    "print(5/8)\n",
    "print(5/8.0)  #or \n",
    "print (5/float(8))\n",
    "print(5*8)\n",
    "print((1/2.0)**2)"
   ]
  },
  {
   "cell_type": "markdown",
   "metadata": {},
   "source": [
    "### Quick Review 2 -  Numbers and Arithmetic"
   ]
  },
  {
   "cell_type": "code",
   "execution_count": 3,
   "metadata": {},
   "outputs": [
    {
     "name": "stdout",
     "output_type": "stream",
     "text": [
      "Enter value of x: 1\n",
      "2.71828\n"
     ]
    }
   ],
   "source": [
    "x = float(input(\"Enter value of x: \"))\n",
    "e = 2.71828\n",
    "\n",
    "print(e**x)"
   ]
  },
  {
   "cell_type": "markdown",
   "metadata": {},
   "source": [
    "### Quick Review 3 -  Variables and Assignments"
   ]
  },
  {
   "cell_type": "code",
   "execution_count": 4,
   "metadata": {
    "scrolled": true
   },
   "outputs": [
    {
     "name": "stdout",
     "output_type": "stream",
     "text": [
      "75.1111111111111\n"
     ]
    }
   ],
   "source": [
    "vel = 5\n",
    "\n",
    "print((7+(vel/3))**2)"
   ]
  },
  {
   "cell_type": "markdown",
   "metadata": {},
   "source": [
    "### Quick Review 4a - User Defined Functions"
   ]
  },
  {
   "cell_type": "code",
   "execution_count": 5,
   "metadata": {},
   "outputs": [
    {
     "name": "stdout",
     "output_type": "stream",
     "text": [
      "332.0114242794823\n"
     ]
    }
   ],
   "source": [
    "e = 2.71828\n",
    "def p(t):\n",
    "    return 100*(e**(0.1*t))\n",
    "print(p(12))"
   ]
  },
  {
   "cell_type": "markdown",
   "metadata": {},
   "source": [
    "### Quick Review 4b - User Defined Functions"
   ]
  },
  {
   "cell_type": "code",
   "execution_count": 6,
   "metadata": {},
   "outputs": [
    {
     "name": "stdout",
     "output_type": "stream",
     "text": [
      "6049.640139656121\n"
     ]
    }
   ],
   "source": [
    "r = 0.15\n",
    "t = 12\n",
    "initPop = 1000\n",
    "\n",
    "def pop(initPop, r, t):\n",
    "    return initPop*(e**(r*t))\n",
    "\n",
    "print(pop(initPop, r, t))"
   ]
  },
  {
   "cell_type": "markdown",
   "metadata": {},
   "source": [
    "### Quick Review 6a - Loops and Lists"
   ]
  },
  {
   "cell_type": "code",
   "execution_count": 7,
   "metadata": {},
   "outputs": [
    {
     "name": "stdout",
     "output_type": "stream",
     "text": [
      "[3, 7, 11, 15]\n"
     ]
    }
   ],
   "source": [
    "print(list(range(3,16,4)))"
   ]
  },
  {
   "cell_type": "markdown",
   "metadata": {},
   "source": [
    "### Quick Review 6b - Loops and Lists"
   ]
  },
  {
   "cell_type": "code",
   "execution_count": 8,
   "metadata": {},
   "outputs": [
    {
     "name": "stdout",
     "output_type": "stream",
     "text": [
      "2\n",
      "4\n",
      "6\n",
      "8\n",
      "10\n",
      "12\n",
      "14\n",
      "16\n",
      "18\n",
      "20\n",
      "22\n",
      "24\n",
      "26\n",
      "28\n",
      "30\n",
      "32\n",
      "34\n",
      "36\n",
      "38\n",
      "40\n"
     ]
    }
   ],
   "source": [
    "dist = 1\n",
    "for item in range(20):    \n",
    "    print(dist*2)\n",
    "    dist= dist+1 "
   ]
  },
  {
   "cell_type": "code",
   "execution_count": 19,
   "metadata": {},
   "outputs": [],
   "source": [
    "# Imports.\n",
    "import time\n",
    "import pandas as pd\n",
    "import matplotlib.pyplot as plt\n",
    "import math\n",
    "pd.options.display.precision = 15"
   ]
  },
  {
   "cell_type": "markdown",
   "metadata": {},
   "source": [
    "# Exercise 1"
   ]
  },
  {
   "cell_type": "code",
   "execution_count": 20,
   "metadata": {},
   "outputs": [
    {
     "name": "stdout",
     "output_type": "stream",
     "text": [
      "Step Size:  0.0001\n",
      "Sim Range:  2000001\n",
      "EXECUTION TIME: 0.9884335994720459\n",
      "Step Size:  0.25\n",
      "Sim Range:  801\n",
      "EXECUTION TIME: 0.00099945068359375\n",
      "Step Size:  0.5\n",
      "Sim Range:  401\n",
      "EXECUTION TIME: 0.0\n"
     ]
    }
   ],
   "source": [
    "def simFinDiff(initSimLength, initPopulation, growthRate, stepSize):\n",
    "    \n",
    "    time_array, growth_array, population_array = [], [], []\n",
    "    numIterations = int(initSimLength / stepSize) + 1\n",
    "    \n",
    "    print(\"Step Size: \", stepSize)\n",
    "    print(\"Sim Range: \", numIterations)\n",
    "    start_time = time.time()\n",
    "    population = initPopulation\n",
    "    dT = stepSize\n",
    "    \n",
    "    for i in range(numIterations):\n",
    "        growth = growthRate * population\n",
    "        population = population + growth * dT\n",
    "        t = i * dT\n",
    "        \n",
    "        time_array.append(t)\n",
    "        growth_array.append(growth)\n",
    "        population_array.append(population)\n",
    "        \n",
    "    #End of Simulation\n",
    "    end_time = time.time()\n",
    "    print(\"EXECUTION TIME: {}\".format(end_time-start_time))\n",
    "    \n",
    "    return time_array, growth_array, population_array\n",
    "\n",
    "initPop = 100\n",
    "growthRate = 0.10 # 10%\n",
    "simLength = 200\n",
    "\n",
    "# Step rates\n",
    "rate1 = 0.0001\n",
    "rate2 = 0.25\n",
    "rate3 = 0.5\n",
    "\n",
    "time_list_r1, growth_list_r1, population_list_r1 = simFinDiff(simLength, initPop, growthRate, rate1)\n",
    "time_list_r2, growth_list_r2, population_list_r2 = simFinDiff(simLength, initPop, growthRate, rate2)\n",
    "time_list_r3, growth_list_r3, population_list_r3 = simFinDiff(simLength, initPop, growthRate, rate3)"
   ]
  },
  {
   "cell_type": "markdown",
   "metadata": {},
   "source": [
    "# Exercise 1, a)"
   ]
  },
  {
   "cell_type": "code",
   "execution_count": 21,
   "metadata": {},
   "outputs": [
    {
     "name": "stdout",
     "output_type": "stream",
     "text": [
      "Bacteria at end of one week:  1977493926.8932104\n"
     ]
    }
   ],
   "source": [
    "print(\"Bacteria at end of one week: \", population_list_r1[1680000])"
   ]
  },
  {
   "cell_type": "markdown",
   "metadata": {},
   "source": [
    "# Exercise 1, b)\n",
    "### Roughly, 6.93145 hours\n",
    "\n",
    "###### Time step:  69314  Value:  199.9998707426728\n",
    "###### Time step:  69315  Value:  200.00187074138023"
   ]
  },
  {
   "cell_type": "code",
   "execution_count": 22,
   "metadata": {},
   "outputs": [
    {
     "name": "stdout",
     "output_type": "stream",
     "text": [
      "Time step:  69310  Value:  199.99187094783898\n",
      "Time step:  69311  Value:  199.99387086654846\n",
      "Time step:  69312  Value:  199.99587080525714\n",
      "Time step:  69313  Value:  199.99787076396518\n",
      "Time step:  69314  Value:  199.9998707426728\n",
      "Time step:  69315  Value:  200.00187074138023\n",
      "Time step:  69316  Value:  200.00387076008764\n",
      "Time step:  69317  Value:  200.00587079879523\n",
      "Time step:  69318  Value:  200.0078708575032\n",
      "Time step:  69319  Value:  200.00987093621177\n"
     ]
    }
   ],
   "source": [
    "for i in population_list_r1:\n",
    "    if (i > 199.99) & (i < 200.01):\n",
    "        print(\"Time step: \", population_list_r1.index(i), \" Value: \", i)"
   ]
  },
  {
   "cell_type": "markdown",
   "metadata": {},
   "source": [
    "# Exercise 1, c)"
   ]
  },
  {
   "cell_type": "code",
   "execution_count": 23,
   "metadata": {},
   "outputs": [
    {
     "data": {
      "image/png": "[encoded data removed]",
      "text/plain": [
       "<Figure size 432x288 with 1 Axes>"
      ]
     },
     "metadata": {
      "needs_background": "light"
     },
     "output_type": "display_data"
    }
   ],
   "source": [
    "plt.plot(time_list_r1, population_list_r1, label=\"0.0001\")\n",
    "plt.plot(time_list_r2, population_list_r2, label=\"0.25\")\n",
    "plt.plot(time_list_r3, population_list_r3, label=\"0.5\")\n",
    "plt.legend()\n",
    "plt.show()"
   ]
  },
  {
   "cell_type": "markdown",
   "metadata": {},
   "source": [
    "# Exercise 1, d)\n",
    "\n",
    "#### Smaller step size = more time to process as there will be more calculations.\n",
    "#### Smaller step size = more precise results.\n",
    "#### ...could lead to overflow and memory issues as the numbers become more precise (more decimals) and more data needs to be stored.\n",
    "\n",
    "#### NOTE: ran a smaller simulation length and plotted them below. I feel this shows how the smaller step size is precise, as the difference for the end results is around 10/15."
   ]
  },
  {
   "cell_type": "code",
   "execution_count": 24,
   "metadata": {},
   "outputs": [
    {
     "name": "stdout",
     "output_type": "stream",
     "text": [
      "Step Size:  0.0001\n",
      "Sim Range:  100001\n",
      "EXECUTION TIME: 0.05396914482116699\n",
      "Step Size:  0.25\n",
      "Sim Range:  41\n",
      "EXECUTION TIME: 0.0\n",
      "Step Size:  0.5\n",
      "Sim Range:  21\n",
      "EXECUTION TIME: 0.0\n"
     ]
    },
    {
     "data": {
      "image/png": "[encoded data removed]",
      "text/plain": [
       "<Figure size 432x288 with 1 Axes>"
      ]
     },
     "metadata": {
      "needs_background": "light"
     },
     "output_type": "display_data"
    }
   ],
   "source": [
    "simLength = 10\n",
    "time_list_r1, growth_list_r1, population_list_r1 = simFinDiff(simLength, initPop, growthRate, rate1)\n",
    "time_list_r2, growth_list_r2, population_list_r2 = simFinDiff(simLength, initPop, growthRate, rate2)\n",
    "time_list_r3, growth_list_r3, population_list_r3 = simFinDiff(simLength, initPop, growthRate, rate3)\n",
    "\n",
    "plt.plot(time_list_r1, population_list_r1, label=\"0.0001\")\n",
    "plt.plot(time_list_r2, population_list_r2, label=\"0.25\")\n",
    "plt.plot(time_list_r3, population_list_r3, label=\"0.5\")\n",
    "plt.legend()\n",
    "plt.show()"
   ]
  },
  {
   "cell_type": "markdown",
   "metadata": {},
   "source": [
    "# Exercise 2, a)"
   ]
  },
  {
   "cell_type": "code",
   "execution_count": 25,
   "metadata": {
    "scrolled": false
   },
   "outputs": [
    {
     "name": "stdout",
     "output_type": "stream",
     "text": [
      "Step Size:  0.25\n",
      "Number of Iterations:  81\n",
      "EXECUTION TIME: 0.0\n"
     ]
    }
   ],
   "source": [
    "def simAnalytical(stepSize, growthRate, initPop, simLength):\n",
    "    time_array, population_array, actual_population_array, growth_array = [], [], [], []\n",
    "    start_time = time.time()\n",
    "    numIter = int(simLength / stepSize)+1\n",
    "\n",
    "    print(\"Step Size: \", stepSize)\n",
    "    print(\"Number of Iterations: \", numIter)\n",
    "    \n",
    "    dT = stepSize \n",
    "    P = initPop\n",
    "    population = initPop\n",
    "    \n",
    "    for i in range(numIter):\n",
    "        \n",
    "        growth = growthRate * population\n",
    "        population = population + growth * dT\n",
    "        t = i * dT\n",
    "        \n",
    "        time_array.append(t)\n",
    "        growth_array.append(growth)\n",
    "        population_array.append(population)\n",
    "        \n",
    "        #analytical - actual population. #TODO: make function...\n",
    "        value = P*math.exp(growthRate * stepSize)\n",
    "        actual_population_array.append(value)\n",
    "        \n",
    "        P = value\n",
    "        \n",
    "    end_time = time.time()\n",
    "    print(\"EXECUTION TIME: {}\".format(end_time-start_time))\n",
    "    \n",
    "    return time_array, population_array, actual_population_array, growth_array\n",
    "\n",
    "initPop = 15000\n",
    "growthRate = 0.02 # 10%\n",
    "simLength = 20\n",
    "\n",
    "stepSize = 0.25\n",
    "\n",
    "time_list, population_list, actual_population_list, growth_list = simAnalytical(stepSize, growthRate, initPop, simLength)"
   ]
  },
  {
   "cell_type": "markdown",
   "metadata": {},
   "source": [
    "# Exercise 2, b)"
   ]
  },
  {
   "cell_type": "code",
   "execution_count": 26,
   "metadata": {},
   "outputs": [
    {
     "name": "stdout",
     "output_type": "stream",
     "text": [
      "81\n",
      "81\n",
      "81\n"
     ]
    },
    {
     "data": {
      "image/png": "[encoded data removed]",
      "text/plain": [
       "<Figure size 432x288 with 1 Axes>"
      ]
     },
     "metadata": {
      "needs_background": "light"
     },
     "output_type": "display_data"
    },
    {
     "data": {
      "image/png": "[encoded data removed]",
      "text/plain": [
       "<Figure size 432x288 with 1 Axes>"
      ]
     },
     "metadata": {
      "needs_background": "light"
     },
     "output_type": "display_data"
    }
   ],
   "source": [
    "print(len(growth_list))\n",
    "print(len(population_list))\n",
    "print(len(time_list))\n",
    "plt.plot(time_list, growth_list, label=\"growth\")\n",
    "plt.plot(time_list, population_list, label=\"population\")\n",
    "plt.legend()\n",
    "plt.show()\n",
    "\n",
    "plt.plot(time_list, growth_list, label=\"growth\")\n",
    "plt.legend()\n",
    "plt.show()"
   ]
  },
  {
   "cell_type": "markdown",
   "metadata": {},
   "source": [
    "# Exercise 2, c) & d)\n",
    "## c) Population at 20 years:  22466.853910\n",
    "## d) \n",
    "###### \tt(h)\tgrowth\tpopulation\n",
    "###### \t0.00\t300.000000\t15075.000000\n",
    "###### \t0.25\t301.500000\t15150.375000\n",
    "###### \t0.50\t303.007500\t15226.126875\n",
    "###### \t0.75\t304.522537\t15302.257509"
   ]
  },
  {
   "cell_type": "code",
   "execution_count": 27,
   "metadata": {},
   "outputs": [
    {
     "data": {
      "text/html": [
       "<div>\n",
       "<style scoped>\n",
       "    .dataframe tbody tr th:only-of-type {\n",
       "        vertical-align: middle;\n",
       "    }\n",
       "\n",
       "    .dataframe tbody tr th {\n",
       "        vertical-align: top;\n",
       "    }\n",
       "\n",
       "    .dataframe thead th {\n",
       "        text-align: right;\n",
       "    }\n",
       "</style>\n",
       "<table border=\"1\" class=\"dataframe\">\n",
       "  <thead>\n",
       "    <tr style=\"text-align: right;\">\n",
       "      <th></th>\n",
       "      <th>t(h)</th>\n",
       "      <th>growth</th>\n",
       "      <th>population</th>\n",
       "    </tr>\n",
       "  </thead>\n",
       "  <tbody>\n",
       "    <tr>\n",
       "      <th>0</th>\n",
       "      <td>0.00</td>\n",
       "      <td>300.000000000000000</td>\n",
       "      <td>15075.000000000000000</td>\n",
       "    </tr>\n",
       "    <tr>\n",
       "      <th>1</th>\n",
       "      <td>0.25</td>\n",
       "      <td>301.500000000000000</td>\n",
       "      <td>15150.375000000000000</td>\n",
       "    </tr>\n",
       "    <tr>\n",
       "      <th>2</th>\n",
       "      <td>0.50</td>\n",
       "      <td>303.007499999999993</td>\n",
       "      <td>15226.126874999999927</td>\n",
       "    </tr>\n",
       "    <tr>\n",
       "      <th>3</th>\n",
       "      <td>0.75</td>\n",
       "      <td>304.522537499999999</td>\n",
       "      <td>15302.257509375000154</td>\n",
       "    </tr>\n",
       "    <tr>\n",
       "      <th>4</th>\n",
       "      <td>1.00</td>\n",
       "      <td>306.045150187499985</td>\n",
       "      <td>15378.768796921875037</td>\n",
       "    </tr>\n",
       "    <tr>\n",
       "      <th>...</th>\n",
       "      <td>...</td>\n",
       "      <td>...</td>\n",
       "      <td>...</td>\n",
       "    </tr>\n",
       "    <tr>\n",
       "      <th>76</th>\n",
       "      <td>19.00</td>\n",
       "      <td>438.270206286128371</td>\n",
       "      <td>22023.077865877952718</td>\n",
       "    </tr>\n",
       "    <tr>\n",
       "      <th>77</th>\n",
       "      <td>19.25</td>\n",
       "      <td>440.461557317559084</td>\n",
       "      <td>22133.193255207341281</td>\n",
       "    </tr>\n",
       "    <tr>\n",
       "      <th>78</th>\n",
       "      <td>19.50</td>\n",
       "      <td>442.663865104146851</td>\n",
       "      <td>22243.859221483377041</td>\n",
       "    </tr>\n",
       "    <tr>\n",
       "      <th>79</th>\n",
       "      <td>19.75</td>\n",
       "      <td>444.877184429667523</td>\n",
       "      <td>22355.078517590794945</td>\n",
       "    </tr>\n",
       "    <tr>\n",
       "      <th>80</th>\n",
       "      <td>20.00</td>\n",
       "      <td>447.101570351815894</td>\n",
       "      <td>22466.853910178750084</td>\n",
       "    </tr>\n",
       "  </tbody>\n",
       "</table>\n",
       "<p>81 rows × 3 columns</p>\n",
       "</div>"
      ],
      "text/plain": [
       "     t(h)               growth             population\n",
       "0    0.00  300.000000000000000  15075.000000000000000\n",
       "1    0.25  301.500000000000000  15150.375000000000000\n",
       "2    0.50  303.007499999999993  15226.126874999999927\n",
       "3    0.75  304.522537499999999  15302.257509375000154\n",
       "4    1.00  306.045150187499985  15378.768796921875037\n",
       "..    ...                  ...                    ...\n",
       "76  19.00  438.270206286128371  22023.077865877952718\n",
       "77  19.25  440.461557317559084  22133.193255207341281\n",
       "78  19.50  442.663865104146851  22243.859221483377041\n",
       "79  19.75  444.877184429667523  22355.078517590794945\n",
       "80  20.00  447.101570351815894  22466.853910178750084\n",
       "\n",
       "[81 rows x 3 columns]"
      ]
     },
     "execution_count": 27,
     "metadata": {},
     "output_type": "execute_result"
    }
   ],
   "source": [
    "animalPopTable = pd.DataFrame()\n",
    "animalPopTable.insert(loc=0, column=\"t(h)\", value=time_list)\n",
    "animalPopTable.insert(loc=1, column=\"growth\", value=growth_list)\n",
    "animalPopTable.insert(loc=2, column=\"population\", value=population_list)\n",
    "animalPopTable"
   ]
  },
  {
   "cell_type": "markdown",
   "metadata": {},
   "source": [
    "# Exercise 3, a)"
   ]
  },
  {
   "cell_type": "code",
   "execution_count": 29,
   "metadata": {},
   "outputs": [
    {
     "data": {
      "text/html": [
       "<div>\n",
       "<style scoped>\n",
       "    .dataframe tbody tr th:only-of-type {\n",
       "        vertical-align: middle;\n",
       "    }\n",
       "\n",
       "    .dataframe tbody tr th {\n",
       "        vertical-align: top;\n",
       "    }\n",
       "\n",
       "    .dataframe thead th {\n",
       "        text-align: right;\n",
       "    }\n",
       "</style>\n",
       "<table border=\"1\" class=\"dataframe\">\n",
       "  <thead>\n",
       "    <tr style=\"text-align: right;\">\n",
       "      <th></th>\n",
       "      <th>t(h)</th>\n",
       "      <th>carbonQ</th>\n",
       "    </tr>\n",
       "  </thead>\n",
       "  <tbody>\n",
       "    <tr>\n",
       "      <th>0</th>\n",
       "      <td>0.00</td>\n",
       "      <td>19.997580786326669</td>\n",
       "    </tr>\n",
       "    <tr>\n",
       "      <th>1</th>\n",
       "      <td>0.25</td>\n",
       "      <td>19.995161865283077</td>\n",
       "    </tr>\n",
       "    <tr>\n",
       "      <th>2</th>\n",
       "      <td>0.50</td>\n",
       "      <td>19.992743236833828</td>\n",
       "    </tr>\n",
       "    <tr>\n",
       "      <th>3</th>\n",
       "      <td>0.75</td>\n",
       "      <td>19.990324900943531</td>\n",
       "    </tr>\n",
       "    <tr>\n",
       "      <th>4</th>\n",
       "      <td>1.00</td>\n",
       "      <td>19.987906857576796</td>\n",
       "    </tr>\n",
       "    <tr>\n",
       "      <th>...</th>\n",
       "      <td>...</td>\n",
       "      <td>...</td>\n",
       "    </tr>\n",
       "    <tr>\n",
       "      <th>99996</th>\n",
       "      <td>24999.00</td>\n",
       "      <td>0.000111587131652</td>\n",
       "    </tr>\n",
       "    <tr>\n",
       "      <th>99997</th>\n",
       "      <td>24999.25</td>\n",
       "      <td>0.000111573633996</td>\n",
       "    </tr>\n",
       "    <tr>\n",
       "      <th>99998</th>\n",
       "      <td>24999.50</td>\n",
       "      <td>0.000111560137973</td>\n",
       "    </tr>\n",
       "    <tr>\n",
       "      <th>99999</th>\n",
       "      <td>24999.75</td>\n",
       "      <td>0.000111546643582</td>\n",
       "    </tr>\n",
       "    <tr>\n",
       "      <th>100000</th>\n",
       "      <td>25000.00</td>\n",
       "      <td>0.000111533150824</td>\n",
       "    </tr>\n",
       "  </tbody>\n",
       "</table>\n",
       "<p>100001 rows × 2 columns</p>\n",
       "</div>"
      ],
      "text/plain": [
       "            t(h)             carbonQ\n",
       "0           0.00  19.997580786326669\n",
       "1           0.25  19.995161865283077\n",
       "2           0.50  19.992743236833828\n",
       "3           0.75  19.990324900943531\n",
       "4           1.00  19.987906857576796\n",
       "...          ...                 ...\n",
       "99996   24999.00   0.000111587131652\n",
       "99997   24999.25   0.000111573633996\n",
       "99998   24999.50   0.000111560137973\n",
       "99999   24999.75   0.000111546643582\n",
       "100000  25000.00   0.000111533150824\n",
       "\n",
       "[100001 rows x 2 columns]"
      ]
     },
     "execution_count": 29,
     "metadata": {},
     "output_type": "execute_result"
    }
   ],
   "source": [
    "initCarbon = 20\n",
    "    # Years #\n",
    "stepSize = 0.25\n",
    "timeLength = 25000\n",
    "\n",
    "numIterations = int(timeLength / stepSize) + 1\n",
    "Q = initCarbon\n",
    "\n",
    "carbonQ_array, time_array = [],[]\n",
    "\n",
    "for i in range(numIterations):\n",
    "    Q = Q*math.exp(-0.000120968)\n",
    "    carbonQ_array.append(Q)\n",
    "    time_array.append(i*stepSize)\n",
    "    \n",
    "carbonQTable = pd.DataFrame()\n",
    "carbonQTable.insert(loc=0, column=\"t(h)\", value=time_array)\n",
    "carbonQTable.insert(loc=1, column=\"carbonQ\", value=carbonQ_array)\n",
    "carbonQTable.iloc[100000]\n",
    "#print(carbonQ_array[100000])\n",
    "carbonQTable"
   ]
  },
  {
   "cell_type": "code",
   "execution_count": 30,
   "metadata": {},
   "outputs": [
    {
     "data": {
      "image/png": "[encoded data removed]",
      "text/plain": [
       "<Figure size 432x288 with 1 Axes>"
      ]
     },
     "metadata": {
      "needs_background": "light"
     },
     "output_type": "display_data"
    }
   ],
   "source": [
    "plt.plot(time_array, carbonQ_array, label=\"carbon\")\n",
    "plt.legend()\n",
    "plt.show()"
   ]
  },
  {
   "cell_type": "code",
   "execution_count": null,
   "metadata": {},
   "outputs": [],
   "source": []
  },
  {
   "cell_type": "markdown",
   "metadata": {},
   "source": [
    "## Lab Feedback: \n",
    "### Personally due having a module (Commerical Development Practice) be 9-5 Mon-Fri last week (25th-29th, Jan), I didn't get the chance to read the lectures beforehand, meaning I only completed 1 task this week. However, I will be able to catch up for next week's lab session and l could probably complete all the supplementary exercises.\n",
    "\n",
    "#### Cheers, Shaun."
   ]
  }
 ],
 "metadata": {
  "kernelspec": {
   "display_name": "Python 3",
   "language": "python",
   "name": "python3"
  },
  "language_info": {
   "codemirror_mode": {
    "name": "ipython",
    "version": 3
   },
   "file_extension": ".py",
   "mimetype": "text/x-python",
   "name": "python",
   "nbconvert_exporter": "python",
   "pygments_lexer": "ipython3",
   "version": "3.6.8"
  }
 },
 "nbformat": 4,
 "nbformat_minor": 4
}

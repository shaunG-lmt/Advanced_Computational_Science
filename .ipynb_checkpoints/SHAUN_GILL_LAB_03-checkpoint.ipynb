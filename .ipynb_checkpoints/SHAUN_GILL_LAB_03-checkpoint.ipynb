{
 "cells": [
  {
   "cell_type": "code",
   "execution_count": 1,
   "metadata": {},
   "outputs": [
    {
     "data": {
      "text/plain": [
       "<Figure size 640x480 with 1 Axes>"
      ]
     },
     "metadata": {},
     "output_type": "display_data"
    }
   ],
   "source": [
    "import numpy as np\n",
    "x = np.array([-3, 2, -1, 4, 0])\n",
    "y = np.array([20, 20, -10, 30, 0])\n",
    "fitCubic = np.polyfit(x, y, 3) # Polynomial\n",
    "xp = np.linspace(-4, 6, 100)\n",
    "polyValues = np.polyval(fitCubic, xp)\n",
    "\n",
    "\n",
    "import matplotlib.pyplot as plt\n",
    "plt.plot(x, y, '.')\n",
    "plt.plot(xp, polyValues, 'g--')\n",
    "plt.show()"
   ]
  },
  {
   "cell_type": "code",
   "execution_count": 2,
   "metadata": {},
   "outputs": [
    {
     "data": {
      "text/plain": [
       "[<matplotlib.lines.Line2D at 0x7f85433a2b00>]"
      ]
     },
     "execution_count": 2,
     "metadata": {},
     "output_type": "execute_result"
    },
    {
     "data": {
      "image/png": "[encoded data removed]",
      "text/plain": [
       "<Figure size 432x288 with 1 Axes>"
      ]
     },
     "metadata": {},
     "output_type": "display_data"
    }
   ],
   "source": [
    "import pandas as pd\n",
    "data = pd.read_csv(\"DanWood.csv\")\n",
    "x = data[\"x\"].values\n",
    "y = data[\"y\"].values\n",
    "\n",
    "plt.plot(x, y, 'o')"
   ]
  },
  {
   "cell_type": "code",
   "execution_count": 23,
   "metadata": {},
   "outputs": [],
   "source": [
    "import math\n",
    "\n",
    "def calculus(x, nTerm, trig):\n",
    "    if trig == \"sin\":\n",
    "        y = 3\n",
    "        value = x\n",
    "    elif trig == \"cos\":\n",
    "        y = 2\n",
    "        value = 1\n",
    "    else: \n",
    "        print(\"no trig defined: use sin or cos\")\n",
    "        return\n",
    "    \n",
    "    plus = False\n",
    "    for i in range(nTerm):\n",
    "        top = x**y\n",
    "        bot = math.factorial(y)\n",
    "        calc = top/bot\n",
    "        y = y + 2\n",
    "        if plus == False:\n",
    "            value = value - calc\n",
    "            plus = True\n",
    "        else:\n",
    "            value = value + calc\n",
    "            plus = False\n",
    "    return value\n",
    "\n",
    "def getAbsErr(correct, computed):\n",
    "    return (abs(correct-computed))\n",
    "\n",
    "def getRelErr(correct, computed):\n",
    "    return (abs(getAbsErr(correct,computed)/correct))\n",
    "def truncDec(x, n):\n",
    "    x = str(x)\n",
    "    new = \"\"\n",
    "    t = x.split('.', 1)\n",
    "    d = list(t[1])\n",
    "    for i in range(n):\n",
    "        new = new + d[i]\n",
    "        \n",
    "    w = t[0] + \".\" + new\n",
    "    \n",
    "    return float(w)\n",
    "\n",
    "def truncSig(x,n): # not perfect... cant handle 0000's before .\n",
    "    x = list(str(x))\n",
    "    new=\"\"\n",
    "    i = 0\n",
    "        \n",
    "    if x[0] == \"-\":\n",
    "        i = i + 1\n",
    "        n = n + 1\n",
    "        new = new + \"-\"\n",
    "    \n",
    "    if x[0] == '0' or x[1] == '0':     \n",
    "        i = i + 2\n",
    "        n = n + 1\n",
    "        new = new  + \"0.\"\n",
    "    \n",
    "    if n >= len(x)-1:\n",
    "        diff = abs(n-len(x))\n",
    "        if diff == 0:\n",
    "            n = n - 1\n",
    "        else:\n",
    "            n=n-diff - 1\n",
    "    \n",
    "    for d in range(i,n+1):\n",
    "        new = new + x[d]\n",
    "\n",
    "    return float(new)"
   ]
  },
  {
   "cell_type": "markdown",
   "metadata": {},
   "source": [
    "#### a)"
   ]
  },
  {
   "cell_type": "code",
   "execution_count": 24,
   "metadata": {},
   "outputs": [
    {
     "name": "stdout",
     "output_type": "stream",
     "text": [
      "0.9333333333333333\n"
     ]
    }
   ],
   "source": [
    "print(calculus(2,2,\"sin\"))"
   ]
  },
  {
   "cell_type": "markdown",
   "metadata": {},
   "source": [
    "#### b)"
   ]
  },
  {
   "cell_type": "code",
   "execution_count": 5,
   "metadata": {},
   "outputs": [
    {
     "name": "stdout",
     "output_type": "stream",
     "text": [
      "Computed:  0.93\n",
      "Correct:  0.91\n",
      "Absolute Error:  0.020000000000000018\n",
      "Relative Error:  0.021978021978021997 %\n"
     ]
    }
   ],
   "source": [
    "computed = round(calculus(2, 2, \"sin\"), 2)\n",
    "correct = round(math.sin(2), 2)\n",
    "print(\"Computed: \", computed)\n",
    "print(\"Correct: \", correct)\n",
    "print(\"Absolute Error: \", getAbsErr(correct, computed))\n",
    "print(\"Relative Error: \", getRelErr(correct, computed), \"%\")"
   ]
  },
  {
   "cell_type": "markdown",
   "metadata": {},
   "source": [
    "#### c) "
   ]
  },
  {
   "cell_type": "code",
   "execution_count": 25,
   "metadata": {},
   "outputs": [
    {
     "name": "stdout",
     "output_type": "stream",
     "text": [
      "Computed:  0.93\n",
      "Correct:  0.9\n",
      "Absolute Error:  0.030000000000000027\n",
      "Relative Error:  0.03333333333333336 %\n"
     ]
    }
   ],
   "source": [
    "computed = float(truncDec(calculus(2,2,\"sin\"), 2))\n",
    "correct = float(truncDec(math.sin(2), 2))\n",
    "print(\"Computed: \", computed)\n",
    "print(\"Correct: \", correct)\n",
    "print(\"Absolute Error: \", getAbsErr(correct, computed))\n",
    "print(\"Relative Error: \", getRelErr(correct, computed), \"%\")"
   ]
  },
  {
   "cell_type": "markdown",
   "metadata": {},
   "source": [
    "# Q2\n",
    "#### a) machine that truncates to three digits"
   ]
  },
  {
   "cell_type": "code",
   "execution_count": 27,
   "metadata": {},
   "outputs": [
    {
     "name": "stdout",
     "output_type": "stream",
     "text": [
      "x truncated to 3 significant digits:  6.23\n",
      "Computed:  12.4\n",
      "Correct:  12.4\n",
      "Relative Error:  0.0 %\n"
     ]
    }
   ],
   "source": [
    "x = 6.239\n",
    "correct = x + x\n",
    "correct = truncSig(correct, 3)\n",
    "xTrunc3Sig = truncSig(x, 3)\n",
    "print(\"x truncated to 3 significant digits: \", xTrunc3Sig)\n",
    "x2 = xTrunc3Sig + xTrunc3Sig\n",
    "computed = truncSig(x2, 3)\n",
    "print(\"Computed: \", computed)\n",
    "print(\"Correct: \", correct)\n",
    "print(\"Relative Error: \", getRelErr(correct, computed), \"%\")"
   ]
  },
  {
   "cell_type": "markdown",
   "metadata": {},
   "source": [
    "##### a) rounded to two"
   ]
  },
  {
   "cell_type": "code",
   "execution_count": 8,
   "metadata": {},
   "outputs": [
    {
     "name": "stdout",
     "output_type": "stream",
     "text": [
      "Computed:  12.48\n",
      "Correct:  12.48\n",
      "Absolute Error:  0.0\n",
      "Relative Error:  0.0 %\n"
     ]
    }
   ],
   "source": [
    "x = 6.239\n",
    "x = round(x,2)\n",
    "correct = x + x\n",
    "correct = round(correct,2)\n",
    "computed = round(x + x,2)\n",
    "print(\"Computed: \", computed)\n",
    "print(\"Correct: \", correct)\n",
    "print(\"Absolute Error: \", getAbsErr(correct, computed))\n",
    "print(\"Relative Error: \", getRelErr(correct, computed), \"%\")"
   ]
  },
  {
   "cell_type": "markdown",
   "metadata": {},
   "source": [
    "#### b) truncate to two"
   ]
  },
  {
   "cell_type": "code",
   "execution_count": 26,
   "metadata": {},
   "outputs": [
    {
     "name": "stdout",
     "output_type": "stream",
     "text": [
      "Computed:  12.46\n",
      "Correct:  12.47\n",
      "Absolute Error:  0.009999999999999787\n",
      "Relative Error:  0.0008019246190857888 %\n"
     ]
    }
   ],
   "source": [
    "x = 6.239\n",
    "correct = x + x\n",
    "correct = truncDec(correct, 2)\n",
    "computed = float(truncDec(x, 2))\n",
    "computed = computed + computed\n",
    "computed = truncDec(computed, 2)\n",
    "\n",
    "print(\"Computed: \", computed)\n",
    "print(\"Correct: \", correct)\n",
    "print(\"Absolute Error: \", getAbsErr(correct, computed))\n",
    "print(\"Relative Error: \", getRelErr(correct, computed), \"%\")"
   ]
  },
  {
   "cell_type": "markdown",
   "metadata": {},
   "source": [
    "# Q3\n",
    "#### a) "
   ]
  },
  {
   "cell_type": "code",
   "execution_count": 20,
   "metadata": {},
   "outputs": [
    {
     "name": "stdout",
     "output_type": "stream",
     "text": [
      "Correct:  0.9999\n",
      "Computed:  1.9998\n",
      "Absolute Error:  10.4702\n",
      "Relative Error:  0.8396311146752204 %\n",
      "Computed:  2.9997\n",
      "Absolute Error:  9.470300000000002\n",
      "Relative Error:  0.7594466720128309 %\n",
      "Computed:  3.9996\n",
      "Absolute Error:  8.470400000000001\n",
      "Relative Error:  0.6792622293504411 %\n",
      "Computed:  4.9995\n",
      "Absolute Error:  7.4705\n",
      "Relative Error:  0.5990777866880513 %\n",
      "Computed:  5.9994000000000005\n",
      "Absolute Error:  6.4706\n",
      "Relative Error:  0.5188933440256616 %\n"
     ]
    },
    {
     "data": {
      "text/plain": [
       "5.9994000000000005"
      ]
     },
     "execution_count": 20,
     "metadata": {},
     "output_type": "execute_result"
    }
   ],
   "source": [
    "x = 0.9999\n",
    "y = 0.9999\n",
    "def q3sim(x, y, n):\n",
    "    print(\"Correct: \", x)\n",
    "    for i in range(n):\n",
    "        x = x + y\n",
    "        computed = x\n",
    "        print(\"Computed: \", computed)\n",
    "        \n",
    "        print(\"Absolute Error: \", getAbsErr(correct, computed))\n",
    "        print(\"Relative Error: \", getRelErr(correct, computed), \"%\")\n",
    "    print(\"Correct: \", x)\n",
    "    return x\n",
    "q3sim(x,y,5)"
   ]
  },
  {
   "cell_type": "markdown",
   "metadata": {},
   "source": [
    "#### b)"
   ]
  },
  {
   "cell_type": "code",
   "execution_count": 21,
   "metadata": {},
   "outputs": [
    {
     "name": "stdout",
     "output_type": "stream",
     "text": [
      "Correct:  0.9999\n",
      "Computed:  1.9998\n",
      "Absolute Error:  10.4702\n",
      "Relative Error:  0.8396311146752204 %\n",
      "Computed:  2.9997\n",
      "Absolute Error:  9.470300000000002\n",
      "Relative Error:  0.7594466720128309 %\n",
      "Computed:  3.9996\n",
      "Absolute Error:  8.470400000000001\n",
      "Relative Error:  0.6792622293504411 %\n",
      "Computed:  4.9995\n",
      "Absolute Error:  7.4705\n",
      "Relative Error:  0.5990777866880513 %\n",
      "Computed:  5.9994000000000005\n",
      "Absolute Error:  6.4706\n",
      "Relative Error:  0.5188933440256616 %\n",
      "Computed:  6.999300000000001\n",
      "Absolute Error:  5.4707\n",
      "Relative Error:  0.43870890136327184 %\n",
      "Computed:  7.999200000000001\n",
      "Absolute Error:  4.4708\n",
      "Relative Error:  0.35852445870088206 %\n",
      "Computed:  8.9991\n",
      "Absolute Error:  3.4709000000000003\n",
      "Relative Error:  0.2783400160384924 %\n",
      "Computed:  9.999\n",
      "Absolute Error:  2.471\n",
      "Relative Error:  0.19815557337610265 %\n",
      "Computed:  10.9989\n",
      "Absolute Error:  1.4710999999999999\n",
      "Relative Error:  0.11797113071371289 %\n"
     ]
    },
    {
     "data": {
      "text/plain": [
       "10.9989"
      ]
     },
     "execution_count": 21,
     "metadata": {},
     "output_type": "execute_result"
    }
   ],
   "source": [
    "q3sim(x,y, 10)"
   ]
  },
  {
   "cell_type": "markdown",
   "metadata": {},
   "source": [
    "# Q4\n",
    "#### a)"
   ]
  },
  {
   "cell_type": "code",
   "execution_count": 29,
   "metadata": {},
   "outputs": [
    {
     "name": "stdout",
     "output_type": "stream",
     "text": [
      "cos(2) truncated series to three terms:  -0.4222222222222223\n"
     ]
    }
   ],
   "source": [
    "print(\"cos(2) truncated series to three terms: \",calculus(2,3, \"cos\"))"
   ]
  },
  {
   "cell_type": "markdown",
   "metadata": {},
   "source": [
    "#### b"
   ]
  },
  {
   "cell_type": "code",
   "execution_count": 30,
   "metadata": {
    "scrolled": true
   },
   "outputs": [
    {
     "name": "stdout",
     "output_type": "stream",
     "text": [
      "Successive Approximations Found:\n",
      "cos( 5 ) -0.4161552028218696\n",
      "cos( 6 ) -0.4161466517022073\n"
     ]
    }
   ],
   "source": [
    "success = False\n",
    "i = 1\n",
    "j = 2\n",
    "while success != True:\n",
    "    x1 = calculus(2,i,\"cos\")\n",
    "    x2 = calculus(2,j,\"cos\")\n",
    "    \n",
    "    if truncSig(x1, 4) == truncSig(x2, 4):\n",
    "        print(\"Successive Approximations Found:\")\n",
    "        print(\"cos(\",i,\")\", x1,)\n",
    "        print(\"cos(\",j,\")\", x2,)\n",
    "        success = True\n",
    "    i = i + 1\n",
    "    j = j + 1"
   ]
  },
  {
   "cell_type": "code",
   "execution_count": null,
   "metadata": {},
   "outputs": [],
   "source": []
  }
 ],
 "metadata": {
  "kernelspec": {
   "display_name": "Python 3",
   "language": "python",
   "name": "python3"
  },
  "language_info": {
   "codemirror_mode": {
    "name": "ipython",
    "version": 3
   },
   "file_extension": ".py",
   "mimetype": "text/x-python",
   "name": "python",
   "nbconvert_exporter": "python",
   "pygments_lexer": "ipython3",
   "version": "3.6.8"
  }
 },
 "nbformat": 4,
 "nbformat_minor": 4
}

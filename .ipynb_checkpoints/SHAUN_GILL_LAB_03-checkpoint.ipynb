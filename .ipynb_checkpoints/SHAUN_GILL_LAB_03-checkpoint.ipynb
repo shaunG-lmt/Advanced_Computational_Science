{
 "cells": [
  {
   "cell_type": "code",
   "execution_count": 17,
   "metadata": {},
   "outputs": [
    {
     "name": "stdout",
     "output_type": "stream",
     "text": [
      "[-0.82047833  3.04394619  9.06173393 -2.66816143]\n"
     ]
    }
   ],
   "source": [
    "import numpy as np\n",
    "x = np.array([-3, 2, -1, 4, 0])\n",
    "y = np.array([20, 20, -10, 30, 0])\n",
    "fitCubic = np.polyfit(x, y, 3) # Polynomial\n",
    "print(fitCubic)"
   ]
  },
  {
   "cell_type": "code",
   "execution_count": null,
   "metadata": {},
   "outputs": [],
   "source": []
  }
 ],
 "metadata": {
  "kernelspec": {
   "display_name": "Python 3",
   "language": "python",
   "name": "python3"
  },
  "language_info": {
   "codemirror_mode": {
    "name": "ipython",
    "version": 3
   },
   "file_extension": ".py",
   "mimetype": "text/x-python",
   "name": "python",
   "nbconvert_exporter": "python",
   "pygments_lexer": "ipython3",
   "version": "3.8.2"
  }
 },
 "nbformat": 4,
 "nbformat_minor": 4
}
